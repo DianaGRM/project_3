{
 "cells": [
  {
   "cell_type": "code",
   "execution_count": 4,
   "metadata": {},
   "outputs": [],
   "source": [
    "import pandas as pd\n",
    "import requests\n",
    "import time\n",
    "\n",
    "df_merged = pd.DataFrame()\n",
    "i = 0\n",
    "\n",
    "while True:\n",
    "    url = f'https://api.reelgood.com/v3.0/content/browse/source/free?availability=onSources&content_kind=both&free=true&hide_seen=false&hide_tracked=false&hide_watchlisted=false&imdb_end=10&imdb_start=0&override_user_sources=true&overriding_free=true&overriding_sources=all&region=us&rg_end=100&rg_start=0&skip={i}&sort=0&take=100&year_end=2023&year_start=1900'\n",
    "    response = requests.get(url).json()\n",
    "    df = pd.json_normalize(response['results'])\n",
    "    df_merged = pd.concat([df_merged, df], ignore_index=True)\n",
    "    if len(df) < 100:\n",
    "        break\n",
    "    i += 100\n"
   ]
  },
  {
   "cell_type": "code",
   "execution_count": 7,
   "metadata": {},
   "outputs": [
    {
     "data": {
      "text/plain": [
       "Index(['id', 'slug', 'content_type', 'title', 'overview', 'availability_pros',\n",
       "       'imdb_rating', 'rt_critics_rating', 'rg_content_score', 'has_poster',\n",
       "       'poster_blur', 'has_backdrop', 'backdrop_blur', 'released_on',\n",
       "       'classification', 'sources', 'genres', 'on_services', 'on_free',\n",
       "       'on_rent_purchase', 'user_rating', 'tracking', 'watchlisted', 'seen',\n",
       "       'season_count', 'featured_services', 'episode_source_count'],\n",
       "      dtype='object')"
      ]
     },
     "execution_count": 7,
     "metadata": {},
     "output_type": "execute_result"
    }
   ],
   "source": [
    "df_merged.columns"
   ]
  },
  {
   "cell_type": "code",
   "execution_count": 9,
   "metadata": {},
   "outputs": [],
   "source": [
    "df_merged.to_csv('./scrap_movies.csv', index=False, header=True)"
   ]
  },
  {
   "cell_type": "code",
   "execution_count": 1,
   "metadata": {},
   "outputs": [
    {
     "ename": "NameError",
     "evalue": "name 'df_merged' is not defined",
     "output_type": "error",
     "traceback": [
      "\u001b[1;31m---------------------------------------------------------------------------\u001b[0m",
      "\u001b[1;31mNameError\u001b[0m                                 Traceback (most recent call last)",
      "Cell \u001b[1;32mIn[1], line 1\u001b[0m\n\u001b[1;32m----> 1\u001b[0m df_merged\u001b[39m.\u001b[39msort_values(by\u001b[39m=\u001b[39m[\u001b[39m'\u001b[39m\u001b[39mreleased_on\u001b[39m\u001b[39m'\u001b[39m], ascending\u001b[39m=\u001b[39m\u001b[39mFalse\u001b[39;00m)\n",
      "\u001b[1;31mNameError\u001b[0m: name 'df_merged' is not defined"
     ]
    }
   ],
   "source": [
    "df_merged.sort_values(by=['released_on'], ascending=False)"
   ]
  }
 ],
 "metadata": {
  "kernelspec": {
   "display_name": "base",
   "language": "python",
   "name": "python3"
  },
  "language_info": {
   "codemirror_mode": {
    "name": "ipython",
    "version": 3
   },
   "file_extension": ".py",
   "mimetype": "text/x-python",
   "name": "python",
   "nbconvert_exporter": "python",
   "pygments_lexer": "ipython3",
   "version": "3.10.9"
  },
  "orig_nbformat": 4
 },
 "nbformat": 4,
 "nbformat_minor": 2
}
